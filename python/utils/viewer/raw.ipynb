{
 "cells": [
  {
   "cell_type": "code",
   "execution_count": 1,
   "metadata": {
    "collapsed": true
   },
   "outputs": [
    {
     "name": "stdout",
     "output_type": "stream",
     "text": [
      "Loading existing processed signals.\n",
      "loading raw shot...\n",
      "Board 0 loaded.\n",
      "Board 1 loaded.\n",
      "Board 2 loaded.\n",
      "Board 3 loaded.\n",
      "All data is loaded.\n",
      "Total event count = 1224.\n",
      "Viewer ok\n"
     ]
    }
   ],
   "source": [
    "import raw\n",
    "\n",
    "#is_plasma = False\n",
    "#shotn = 280\n",
    "#config = '2020.12.08_raman'"
   ]
  },
  {
   "cell_type": "code",
   "execution_count": 2,
   "outputs": [
    {
     "name": "stdout",
     "output_type": "stream",
     "text": [
      "Plotting poly 6\n"
     ]
    },
    {
     "ename": "AttributeError",
     "evalue": "'Integrator' object has no attribute 'result'",
     "output_type": "error",
     "traceback": [
      "\u001B[1;31m---------------------------------------------------------------------------\u001B[0m",
      "\u001B[1;31mAttributeError\u001B[0m                            Traceback (most recent call last)",
      "\u001B[1;32m<ipython-input-2-2a97116e1372>\u001B[0m in \u001B[0;36m<module>\u001B[1;34m\u001B[0m\n\u001B[0;32m      2\u001B[0m \u001B[0mevent_ind\u001B[0m \u001B[1;33m=\u001B[0m \u001B[1;36m0\u001B[0m\u001B[1;33m\u001B[0m\u001B[1;33m\u001B[0m\u001B[0m\n\u001B[0;32m      3\u001B[0m \u001B[1;33m\u001B[0m\u001B[0m\n\u001B[1;32m----> 4\u001B[1;33m \u001B[0mraw\u001B[0m\u001B[1;33m.\u001B[0m\u001B[0mplot\u001B[0m\u001B[1;33m(\u001B[0m\u001B[0mpoly_ind\u001B[0m\u001B[1;33m,\u001B[0m \u001B[0mevent_ind\u001B[0m\u001B[1;33m)\u001B[0m\u001B[1;33m\u001B[0m\u001B[1;33m\u001B[0m\u001B[0m\n\u001B[0m\u001B[0;32m      5\u001B[0m \u001B[1;33m\u001B[0m\u001B[0m\n",
      "\u001B[1;32mD:\\code\\TS\\2020upgrade\\TomsonViewer\\python\\utils\\viewer\\raw.py\u001B[0m in \u001B[0;36mplot\u001B[1;34m(poly_ind, event_ind)\u001B[0m\n\u001B[0;32m     33\u001B[0m         \u001B[0msp_ch\u001B[0m \u001B[1;33m=\u001B[0m \u001B[0mintegrator\u001B[0m\u001B[1;33m.\u001B[0m\u001B[0mconfig\u001B[0m\u001B[1;33m[\u001B[0m\u001B[1;34m'poly'\u001B[0m\u001B[1;33m]\u001B[0m\u001B[1;33m[\u001B[0m\u001B[0mpoly_ind\u001B[0m\u001B[1;33m]\u001B[0m\u001B[1;33m[\u001B[0m\u001B[1;34m'channels'\u001B[0m\u001B[1;33m]\u001B[0m\u001B[1;33m[\u001B[0m\u001B[0mch_ind\u001B[0m\u001B[1;33m]\u001B[0m\u001B[1;33m\u001B[0m\u001B[1;33m\u001B[0m\u001B[0m\n\u001B[0;32m     34\u001B[0m         \u001B[0mboard_ind\u001B[0m \u001B[1;33m=\u001B[0m \u001B[0msp_ch\u001B[0m\u001B[1;33m[\u001B[0m\u001B[1;34m'adc'\u001B[0m\u001B[1;33m]\u001B[0m\u001B[1;33m\u001B[0m\u001B[1;33m\u001B[0m\u001B[0m\n\u001B[1;32m---> 35\u001B[1;33m         if 'captured_bad' in integrator.result[board_ind][event_ind] and integrator.result[board_ind][event_ind][\n\u001B[0m\u001B[0;32m     36\u001B[0m             'captured_bad']:\n\u001B[0;32m     37\u001B[0m             \u001B[1;32mcontinue\u001B[0m\u001B[1;33m\u001B[0m\u001B[1;33m\u001B[0m\u001B[0m\n",
      "\u001B[1;31mAttributeError\u001B[0m: 'Integrator' object has no attribute 'result'"
     ]
    },
    {
     "data": {
      "text/plain": "<Figure size 432x288 with 0 Axes>"
     },
     "metadata": {},
     "output_type": "display_data"
    }
   ],
   "source": [
    "poly_ind = 6\n",
    "event_ind = 0\n",
    "\n",
    "raw.plot(poly_ind, event_ind)"
   ],
   "metadata": {
    "collapsed": false,
    "pycharm": {
     "name": "#%%\n"
    }
   }
  },
  {
   "cell_type": "code",
   "execution_count": null,
   "outputs": [],
   "source": [
    "raw.integrator.cleanup()"
   ],
   "metadata": {
    "collapsed": false,
    "pycharm": {
     "name": "#%%\n"
    }
   }
  }
 ],
 "metadata": {
  "kernelspec": {
   "display_name": "Python 3",
   "language": "python",
   "name": "python3"
  },
  "language_info": {
   "codemirror_mode": {
    "name": "ipython",
    "version": 2
   },
   "file_extension": ".py",
   "mimetype": "text/x-python",
   "name": "python",
   "nbconvert_exporter": "python",
   "pygments_lexer": "ipython2",
   "version": "2.7.6"
  }
 },
 "nbformat": 4,
 "nbformat_minor": 0
}